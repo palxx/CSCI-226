{
 "cells": [
  {
   "cell_type": "markdown",
   "id": "5c239225",
   "metadata": {},
   "source": [
    "# Validate Restaurant Menu XML against domain.dtd"
   ]
  },
  {
   "cell_type": "markdown",
   "id": "f2b08651",
   "metadata": {},
   "source": [
    "Run this in Colab or locally. It validates `sample.xml` and `broken.xml`."
   ]
  },
  {
   "cell_type": "code",
   "execution_count": null,
   "id": "14f3cd8b",
   "metadata": {},
   "outputs": [],
   "source": [
    "\n",
    "from lxml import etree\n",
    "\n",
    "def validate(xml_path, dtd_path=\"domain.dtd\"):\n",
    "    with open(dtd_path, \"rb\") as f:\n",
    "        dtd = etree.DTD(f)\n",
    "    doc = etree.parse(xml_path)\n",
    "    is_valid = dtd.validate(doc)\n",
    "    print(f\"{xml_path}: {'✅ VALID' if is_valid else '❌ INVALID'}\")\n",
    "    if not is_valid:\n",
    "        # Print first few error messages\n",
    "        for e in dtd.error_log:\n",
    "            print(f\" - Line {e.line}: {e.message}\")\n",
    "\n",
    "validate(\"sample.xml\")\n",
    "validate(\"broken.xml\")\n"
   ]
  }
 ],
 "metadata": {},
 "nbformat": 4,
 "nbformat_minor": 5
}
